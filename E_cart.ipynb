{
 "cells": [
  {
   "cell_type": "code",
   "execution_count": 1,
   "id": "f061bc57-cb05-4d81-a645-f1688544ce5e",
   "metadata": {},
   "outputs": [
    {
     "name": "stdout",
     "output_type": "stream",
     "text": [
      "\n",
      "---------- Available Products ----------\n",
      "1) Name: iPhone 16, Price: 85000, Model: 16 Pro\n",
      "2) Name: Samsung Galaxy S24, Price: 79999, Model: Ultra 5G\n",
      "3) Name: OnePlus 12, Price: 69999, Model: Pro\n",
      "4) Name: Google Pixel 8, Price: 72999, Model: XL\n",
      "5) Name: Xiaomi 14, Price: 56999, Model: Ultra\n",
      "6) Name: Vivo X100, Price: 45999, Model: Pro\n",
      "7) Name: Oppo Find X6, Price: 61999, Model: Pro\n",
      "8) Name: Realme GT Neo 5, Price: 39999, Model: 240W\n",
      "9) Name: ASUS ROG Phone 7, Price: 74999, Model: Ultimate\n",
      "10) Name: Motorola Edge 50, Price: 52999, Model: Fusion\n",
      "11) Name: Nothing Phone 2, Price: 44999, Model: Transparent\n",
      "12) Name: iQOO 12, Price: 58999, Model: Legend\n",
      "13) Name: Honor Magic 6, Price: 67999, Model: Pro\n",
      "14) Name: Sony Xperia 1 V, Price: 89999, Model: 5G\n",
      "15) Name: Samsung Galaxy Z Fold 5, Price: 149999, Model: Fold\n",
      "16) Name: iPhone 15 Pro, Price: 129999, Model: Titanium\n",
      "17) Name: OnePlus Open, Price: 119999, Model: Fold\n",
      "18) Name: Xiaomi Mix Fold 3, Price: 139999, Model: Fold\n",
      "19) Name: Huawei Mate 60, Price: 88999, Model: Pro\n",
      "20) Name: Nubia RedMagic 9, Price: 57999, Model: Gaming\n",
      "\n",
      "---------- Menu ----------\n",
      "1) Add Product to Cart\n",
      "2) Delete Product from Cart\n",
      "3) Save for Later\n",
      "4) View Cart\n",
      "5) Place Order\n",
      "6) Clear Cart\n",
      "7) Exit\n"
     ]
    },
    {
     "name": "stdin",
     "output_type": "stream",
     "text": [
      "Enter your choice:  1\n",
      "Enter the Product ID to add into cart:  14\n"
     ]
    },
    {
     "name": "stdout",
     "output_type": "stream",
     "text": [
      "Added Name: Sony Xperia 1 V, Price: 89999, Model: 5G to cart.\n"
     ]
    },
    {
     "name": "stdin",
     "output_type": "stream",
     "text": [
      "Enter your choice:  4\n"
     ]
    },
    {
     "name": "stdout",
     "output_type": "stream",
     "text": [
      "\n",
      "Your Cart:\n",
      "Name: Sony Xperia 1 V, Price: 89999, Model: 5G\n"
     ]
    },
    {
     "name": "stdin",
     "output_type": "stream",
     "text": [
      "Enter your choice:  5\n"
     ]
    },
    {
     "name": "stdout",
     "output_type": "stream",
     "text": [
      "\n",
      "Your Bill:\n",
      "Name: Sony Xperia 1 V, Price: 89999, Model: 5G\n",
      "Total Price: 89999\n"
     ]
    },
    {
     "name": "stdin",
     "output_type": "stream",
     "text": [
      "Do you want to place the order? (Yes/No):  Yes\n"
     ]
    },
    {
     "name": "stdout",
     "output_type": "stream",
     "text": [
      "Order placed successfully!\n"
     ]
    },
    {
     "name": "stdin",
     "output_type": "stream",
     "text": [
      "Enter your choice:  6\n"
     ]
    },
    {
     "name": "stdout",
     "output_type": "stream",
     "text": [
      "Cart cleared.\n"
     ]
    },
    {
     "name": "stdin",
     "output_type": "stream",
     "text": [
      "Enter your choice:  7\n"
     ]
    },
    {
     "name": "stdout",
     "output_type": "stream",
     "text": [
      "Exiting...\n"
     ]
    }
   ],
   "source": [
    "products = {\n",
    "    1: \"Name: iPhone 16, Price: 85000, Model: 16 Pro\",\n",
    "    2: \"Name: Samsung Galaxy S24, Price: 79999, Model: Ultra 5G\",\n",
    "    3: \"Name: OnePlus 12, Price: 69999, Model: Pro\",\n",
    "    4: \"Name: Google Pixel 8, Price: 72999, Model: XL\",\n",
    "    5: \"Name: Xiaomi 14, Price: 56999, Model: Ultra\",\n",
    "    6: \"Name: Vivo X100, Price: 45999, Model: Pro\",\n",
    "    7: \"Name: Oppo Find X6, Price: 61999, Model: Pro\",\n",
    "    8: \"Name: Realme GT Neo 5, Price: 39999, Model: 240W\",\n",
    "    9: \"Name: ASUS ROG Phone 7, Price: 74999, Model: Ultimate\",\n",
    "    10: \"Name: Motorola Edge 50, Price: 52999, Model: Fusion\",\n",
    "    11: \"Name: Nothing Phone 2, Price: 44999, Model: Transparent\",\n",
    "    12: \"Name: iQOO 12, Price: 58999, Model: Legend\",\n",
    "    13: \"Name: Honor Magic 6, Price: 67999, Model: Pro\",\n",
    "    14: \"Name: Sony Xperia 1 V, Price: 89999, Model: 5G\",\n",
    "    15: \"Name: Samsung Galaxy Z Fold 5, Price: 149999, Model: Fold\",\n",
    "    16: \"Name: iPhone 15 Pro, Price: 129999, Model: Titanium\",\n",
    "    17: \"Name: OnePlus Open, Price: 119999, Model: Fold\",\n",
    "    18: \"Name: Xiaomi Mix Fold 3, Price: 139999, Model: Fold\",\n",
    "    19: \"Name: Huawei Mate 60, Price: 88999, Model: Pro\",\n",
    "    20: \"Name: Nubia RedMagic 9, Price: 57999, Model: Gaming\"\n",
    "}\n",
    "\n",
    "cart = []\n",
    "choice = 0\n",
    "\n",
    "# Display available products\n",
    "print(\"\\n---------- Available Products ----------\")\n",
    "for pid, details in products.items():\n",
    "    print(f\"{pid}) {details}\")\n",
    "\n",
    "# Menu\n",
    "def display_menu():\n",
    "    print(\"\\n---------- Menu ----------\")\n",
    "    print(\"1) Add Product to Cart\")\n",
    "    print(\"2) Delete Product from Cart\")\n",
    "    print(\"3) Save for Later\")\n",
    "    print(\"4) View Cart\")\n",
    "    print(\"5) Place Order\")\n",
    "    print(\"6) Clear Cart\")\n",
    "    print(\"7) Exit\")\n",
    "\n",
    "display_menu()\n",
    "while choice != 7:\n",
    "    choice = int(input(\"Enter your choice: \"))\n",
    "    \n",
    "    if choice == 1:  # Add product to cart\n",
    "        product_id = int(input(\"Enter the Product ID to add into cart: \"))\n",
    "        if product_id in products:\n",
    "            cart.append(product_id)\n",
    "            print(f\"Added {products[product_id]} to cart.\")\n",
    "        else:\n",
    "            print(\"Invalid Product ID!\")\n",
    "    \n",
    "    elif choice == 2:  # Remove product from cart\n",
    "        product_id = int(input(\"Enter the Product ID to remove from cart: \"))\n",
    "        if product_id in cart:\n",
    "            cart.remove(product_id)\n",
    "            print(\"Product removed from cart.\")\n",
    "        else:\n",
    "            print(\"Product not found in cart!\")\n",
    "    \n",
    "    elif choice == 4:  # View cart\n",
    "        if not cart:\n",
    "            print(\"Cart is empty.\")\n",
    "        else:\n",
    "            print(\"\\nYour Cart:\")\n",
    "            for pid in cart:\n",
    "                print(products[pid])\n",
    "    \n",
    "    elif choice == 5:  # Place order\n",
    "        if not cart:\n",
    "            print(\"Cart is empty. Cannot place order.\")\n",
    "        else:\n",
    "            total_price = sum(int(products[pid].split(\"Price: \")[1].split(\",\")[0]) for pid in cart)\n",
    "            print(\"\\nYour Bill:\")\n",
    "            for pid in cart:\n",
    "                print(products[pid])\n",
    "            print(f\"Total Price: {total_price}\")\n",
    "            confirm = input(\"Do you want to place the order? (Yes/No): \")\n",
    "            if confirm.lower() == \"yes\":\n",
    "                print(\"Order placed successfully!\")\n",
    "                cart.clear()\n",
    "            else:\n",
    "                print(\"Order cancelled.\")\n",
    "    \n",
    "    elif choice == 6:  # Clear cart\n",
    "        cart.clear()\n",
    "        print(\"Cart cleared.\")\n",
    "    \n",
    "    elif choice == 7:  # Exit\n",
    "        print(\"Exiting...\")\n",
    "    \n",
    "    else:\n",
    "        print(\"Invalid choice. Please try again.\")\n"
   ]
  },
  {
   "cell_type": "code",
   "execution_count": null,
   "id": "1f6dc078-2886-4c6b-8423-ceec69ba2476",
   "metadata": {},
   "outputs": [],
   "source": []
  }
 ],
 "metadata": {
  "kernelspec": {
   "display_name": "Python 3 (ipykernel)",
   "language": "python",
   "name": "python3"
  },
  "language_info": {
   "codemirror_mode": {
    "name": "ipython",
    "version": 3
   },
   "file_extension": ".py",
   "mimetype": "text/x-python",
   "name": "python",
   "nbconvert_exporter": "python",
   "pygments_lexer": "ipython3",
   "version": "3.13.1"
  }
 },
 "nbformat": 4,
 "nbformat_minor": 5
}
